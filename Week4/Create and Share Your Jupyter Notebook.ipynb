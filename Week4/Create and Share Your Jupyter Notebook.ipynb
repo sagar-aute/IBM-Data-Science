{
 "cells": [
  {
   "cell_type": "markdown",
   "metadata": {},
   "source": [
    "<H1>My Jupyter Notebook on IBM Watson Studio<H1>"
   ]
  },
  {
   "cell_type": "markdown",
   "metadata": {},
   "source": [
    "<b>Sagar Aute</b><br>Student"
   ]
  },
  {
   "cell_type": "markdown",
   "metadata": {},
   "source": [
    "<i>I am interested in data science because I want to become a data scietist under the industry of Media & Entertainment.<i>"
   ]
  },
  {
   "cell_type": "markdown",
   "metadata": {},
   "source": [
    "<h3>The Following Code will Display Sum of 25 + 10</h3>"
   ]
  },
  {
   "cell_type": "code",
   "execution_count": 2,
   "metadata": {},
   "outputs": [
    {
     "name": "stdout",
     "output_type": "stream",
     "text": [
      "35\n"
     ]
    }
   ],
   "source": [
    "print(25+10)"
   ]
  },
  {
   "cell_type": "markdown",
   "metadata": {},
   "source": [
    "<html>\n",
    "    <header>\n",
    "    </header>\n",
    "    <body>\n",
    "        <section>\n",
    "            <h1> My favourite Fruits</h1>\n",
    "            <ol>\n",
    "                <li>Apple</li>\n",
    "                <li>Banana</li>\n",
    "                <li>Orange</li>\n",
    "                <li>Mango</li>\n",
    "                <li>Grapes</li>\n",
    "            </ol>\n",
    "            <hr>\n",
    "            <table border=\\\"1px\\\">\n",
    "                <tr>\n",
    "                    <td><b>Needs</b></td>\n",
    "                    <td><b>Wants</b></td>\n",
    "                </tr>\n",
    "                <tr>\n",
    "                    <td>Water</td>\n",
    "                    <td>Car</td>\n",
    "                </tr>\n",
    "                <tr>\n",
    "                    <td>Food</td>\n",
    "                    <td>Phone</td>\n",
    "                </tr>\n",
    "                <tr>\n",
    "                    <td>Education</td>\n",
    "                    <td>Computer</td>\n",
    "                </tr>\n",
    "                <tr>\n",
    "                    <td>Medicine</td>\n",
    "                    <td>Television</td>\n",
    "                </tr>\n",
    "            </table>\n",
    "            <br>\n",
    "            <hr>\n",
    "        </section>\n",
    "        <footer>\n",
    "            <a href=\"https://www.instagram.com\">Instagram</a>\n",
    "        </footer>\n",
    "    </body>\n",
    "</html>"
   ]
  },
  {
   "cell_type": "code",
   "execution_count": null,
   "metadata": {},
   "outputs": [],
   "source": []
  }
 ],
 "metadata": {
  "kernelspec": {
   "display_name": "Python",
   "language": "python",
   "name": "conda-env-python-py"
  },
  "language_info": {
   "codemirror_mode": {
    "name": "ipython",
    "version": 3
   },
   "file_extension": ".py",
   "mimetype": "text/x-python",
   "name": "python",
   "nbconvert_exporter": "python",
   "pygments_lexer": "ipython3",
   "version": "3.7.12"
  }
 },
 "nbformat": 4,
 "nbformat_minor": 4
}
